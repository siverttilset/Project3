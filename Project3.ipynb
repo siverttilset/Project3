{
 "cells": [
  {
   "cell_type": "markdown",
   "metadata": {},
   "source": [
    "<!-- dom:TITLE: Project 3 - Task # 1 Data Preprocessing-->\n",
    "# Project 3 - Task # 1 Data Preprocessing\n",
    "<!-- dom:AUTHOR: Sivert Tilset and xxx and xxx -->\n",
    "<!-- Author: -->  \n",
    "**Sivert Tilset (273412) and XXX() and XXX()**\n",
    "\n",
    "Date: **Todays date**\n"
   ]
  },
  {
   "cell_type": "code",
   "execution_count": null,
   "metadata": {
    "vscode": {
     "languageId": "plaintext"
    }
   },
   "outputs": [],
   "source": []
  },
  {
   "cell_type": "markdown",
   "metadata": {},
   "source": [
    "**Abstract.**\n",
    "testdsadsadsd"
   ]
  },
  {
   "cell_type": "code",
   "execution_count": null,
   "metadata": {
    "vscode": {
     "languageId": "plaintext"
    }
   },
   "outputs": [],
   "source": []
  },
  {
   "cell_type": "markdown",
   "metadata": {},
   "source": [
    "# Introduction"
   ]
  }
 ],
 "metadata": {
  "language_info": {
   "name": "python"
  }
 },
 "nbformat": 4,
 "nbformat_minor": 2
}
